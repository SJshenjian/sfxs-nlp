{
 "cells": [
  {
   "cell_type": "code",
   "execution_count": 1,
   "id": "initial_id",
   "metadata": {
    "ExecuteTime": {
     "end_time": "2025-04-15T12:44:49.636136964Z",
     "start_time": "2025-04-15T12:44:48.823348364Z"
    }
   },
   "outputs": [],
   "source": [
    "import pandas as pd\n",
    "from utils.esutils import query_enterprises_scroll\n",
    "import utils.threads as threads\n",
    "import re\n",
    "import utils.processes as processes"
   ]
  },
  {
   "cell_type": "code",
   "execution_count": 2,
   "id": "f8e3ac1a06ce9704",
   "metadata": {
    "collapsed": false,
    "ExecuteTime": {
     "end_time": "2025-04-15T12:44:57.860542482Z",
     "start_time": "2025-04-15T12:44:56.617142483Z"
    }
   },
   "outputs": [
    {
     "name": "stdout",
     "output_type": "stream",
     "text": [
      "已加载 100000 条记录...\n",
      "共加载 100000 条记录\n"
     ]
    }
   ],
   "source": [
    "enterprises = query_enterprises_scroll(province=\"江苏省\")"
   ]
  },
  {
   "cell_type": "code",
   "execution_count": 5,
   "id": "1826fea5-c0e8-4b6f-bdfc-8e052b834e4d",
   "metadata": {
    "ExecuteTime": {
     "end_time": "2025-04-15T12:47:51.168080586Z",
     "start_time": "2025-04-15T12:47:50.983359726Z"
    }
   },
   "outputs": [],
   "source": [
    "df = pd.DataFrame(enterprises)\n",
    "df.to_csv('江苏省企业.csv', index=False)"
   ]
  },
  {
   "cell_type": "code",
   "outputs": [],
   "source": [
    "df = pd.read_csv('江苏省企业.csv')"
   ],
   "metadata": {
    "collapsed": false,
    "ExecuteTime": {
     "end_time": "2025-04-15T12:47:53.722470128Z",
     "start_time": "2025-04-15T12:47:53.520356247Z"
    }
   },
   "id": "32fe7c84370aa577",
   "execution_count": 6
  },
  {
   "cell_type": "code",
   "execution_count": 16,
   "id": "506c35a7-8da5-4247-b9e7-7fa7d4befe09",
   "metadata": {
    "ExecuteTime": {
     "end_time": "2025-04-15T12:56:55.961974730Z",
     "start_time": "2025-04-15T12:56:55.921451948Z"
    }
   },
   "outputs": [],
   "source": [
    "def deal(row):\n",
    "        address = row[\"registered_address\"]\n",
    "        province = row[\"province\"]\n",
    "        city = row[\"city\"]\n",
    "        district = row[\"district\"]\n",
    "\n",
    "        row[\"extra_address\"] = None\n",
    "        row[\"matched_province\"] = None\n",
    "        row[\"matched_city\"] = None\n",
    "        row[\"matched_district\"] = None\n",
    "\n",
    "        if pd.isna(address) or address == \"-\":\n",
    "            return row\n",
    "\n",
    "        extra_address = address\n",
    "        matched_province = None\n",
    "        matched_city = None\n",
    "        matched_district = None\n",
    "        matched_town_or_street = None\n",
    "\n",
    "        if not pd.isna(province) and province != \"-\" and province in extra_address:\n",
    "            matched_province = province\n",
    "            extra_address = extra_address.replace(province, \"\", 1)\n",
    "\n",
    "        if not pd.isna(city) and city != \"-\" and city in extra_address:\n",
    "            matched_city = city\n",
    "            extra_address = extra_address.replace(city, \"\", 1)\n",
    "\n",
    "        if not pd.isna(district) and district != \"-\" and district in extra_address:\n",
    "            matched_district = district\n",
    "            extra_address = extra_address.replace(district, \"\", 1)\n",
    "            \n",
    "        # 提取开发区\n",
    "        town_or_street_pattern = r\"[^\\s]{2,10}(?:镇|街道)\"\n",
    "        match = re.search(town_or_street_pattern, extra_address)\n",
    "        if match:\n",
    "            matched_town_or_street = match.group(0)\n",
    "            extra_address = extra_address.replace(matched_town_or_street, \"\", 1)\n",
    "            \n",
    "        # 提取镇/街道（以“镇”或“街道”结尾的词）\n",
    "        town_or_street_pattern = r\"[^\\s]{2,10}(?:镇|街道)\"\n",
    "        match = re.search(town_or_street_pattern, extra_address)\n",
    "        if match:\n",
    "            matched_town_or_street = match.group(0)\n",
    "            extra_address = extra_address.replace(matched_town_or_street, \"\", 1)\n",
    "\n",
    "        extra_address = extra_address.strip()\n",
    "        if not extra_address:\n",
    "            extra_address = None\n",
    "\n",
    "        row[\"extra_address\"] = extra_address\n",
    "        row[\"matched_province\"] = matched_province\n",
    "        row[\"matched_city\"] = matched_city\n",
    "        row[\"matched_district\"] = matched_district\n",
    "        row[\"matched_town\"] = matched_town_or_street\n",
    "\n",
    "        return row"
   ]
  },
  {
   "cell_type": "code",
   "execution_count": 17,
   "id": "01536077-07b2-4088-a8bf-4ab865af679c",
   "metadata": {
    "ExecuteTime": {
     "end_time": "2025-04-15T12:57:14.714188310Z",
     "start_time": "2025-04-15T12:56:57.867299314Z"
    }
   },
   "outputs": [
    {
     "name": "stdout",
     "output_type": "stream",
     "text": [
      "处理进度 2025-04-15 20:56:58:0\n"
     ]
    }
   ],
   "source": [
    "ok_df = processes.process_dataframe_multiprocess(df, deal, num_processes=4, chunk_size=100000)"
   ]
  },
  {
   "cell_type": "code",
   "outputs": [],
   "source": [
    "def csv_to_bio(df, output_file):\n",
    "    selected_columns = [\"province\", \"city\", \"district\", \"dev\", \"matched_town\", \"extra_address\"]\n",
    "    \n",
    "    with open(output_file, \"w\", encoding=\"utf-8\") as f:\n",
    "        for index, row in df.iterrows():\n",
    "            # 处理每个字段\n",
    "            for col in selected_columns:\n",
    "                if pd.notna(row[col]) and (col != \"matched_town\" or row[col]):  # 跳过空的 matched_town\n",
    "                    chars = list(row[col])  # 将字符串拆分为字符列表\n",
    "                    if col == \"province\":\n",
    "                        tag_prefix = \"PROV\"\n",
    "                    elif col == \"city\":\n",
    "                        tag_prefix = \"CITY\"\n",
    "                    elif col == \"district\":\n",
    "                        tag_prefix = \"DISTRICT\"\n",
    "                    elif col == \"dev\":\n",
    "                        tag_prefix = \"DEV\"\n",
    "                    elif col == \"matched_town\":\n",
    "                        tag_prefix = \"TOWN\"\n",
    "                    elif col == \"extra_address\":\n",
    "                        tag_prefix = \"EXTRA\"\n",
    "                    \n",
    "                    # 分配BIO标签\n",
    "                    for i, char in enumerate(chars):\n",
    "                        if i == 0:\n",
    "                            f.write(f\"{char} B-{tag_prefix}\\n\")\n",
    "                        elif i == len(chars) - 1:\n",
    "                            f.write(f\"{char} E-{tag_prefix}\\n\")\n",
    "                        else:\n",
    "                            f.write(f\"{char} I-{tag_prefix}\\n\")\n",
    "            # 每条地址后加空行\n",
    "            if index < len(df) - 1:\n",
    "                f.write(\"\\n\")\n",
    "\n",
    "# 生成train.txt\n",
    "csv_to_bio(ok_df.head(100000), \"test.txt\")"
   ],
   "metadata": {
    "collapsed": false,
    "ExecuteTime": {
     "end_time": "2025-04-15T13:00:07.206962842Z",
     "start_time": "2025-04-15T13:00:03.038354411Z"
    }
   },
   "id": "3489a276fdb042b6",
   "execution_count": 22
  },
  {
   "cell_type": "code",
   "outputs": [],
   "source": [
    "ok_df.head(100000).to_csv('test.csv', index=False)"
   ],
   "metadata": {
    "collapsed": false,
    "ExecuteTime": {
     "end_time": "2025-04-15T12:59:45.644993990Z",
     "start_time": "2025-04-15T12:59:45.443969558Z"
    }
   },
   "id": "40fb39ad6c4f200",
   "execution_count": 21
  },
  {
   "cell_type": "code",
   "outputs": [],
   "source": [],
   "metadata": {
    "collapsed": false
   },
   "id": "5ffe77915ecaeae4"
  }
 ],
 "metadata": {
  "kernelspec": {
   "display_name": "Python 3 (ipykernel)",
   "language": "python",
   "name": "python3"
  },
  "language_info": {
   "codemirror_mode": {
    "name": "ipython",
    "version": 3
   },
   "file_extension": ".py",
   "mimetype": "text/x-python",
   "name": "python",
   "nbconvert_exporter": "python",
   "pygments_lexer": "ipython3",
   "version": "3.11.11"
  }
 },
 "nbformat": 4,
 "nbformat_minor": 5
}
