{
 "cells": [
  {
   "cell_type": "code",
   "execution_count": 1,
   "id": "initial_id",
   "metadata": {
    "ExecuteTime": {
     "end_time": "2025-04-05T02:34:39.303687654Z",
     "start_time": "2025-04-05T02:34:38.379884190Z"
    }
   },
   "outputs": [],
   "source": [
    "import pandas as pd\n",
    "from utils.esutils import query_enterprises_scroll\n",
    "import re\n",
    "import utils.processes as processes"
   ]
  },
  {
   "cell_type": "code",
   "execution_count": 2,
   "id": "f8e3ac1a06ce9704",
   "metadata": {
    "collapsed": false,
    "ExecuteTime": {
     "end_time": "2025-04-05T02:19:29.161125629Z",
     "start_time": "2025-04-05T02:17:54.007086785Z"
    }
   },
   "outputs": [
    {
     "name": "stdout",
     "output_type": "stream",
     "text": [
      "已加载 100000 条记录...\n",
      "已加载 200000 条记录...\n",
      "已加载 300000 条记录...\n",
      "已加载 400000 条记录...\n",
      "已加载 500000 条记录...\n",
      "已加载 600000 条记录...\n",
      "已加载 700000 条记录...\n",
      "已加载 800000 条记录...\n",
      "已加载 900000 条记录...\n",
      "已加载 1000000 条记录...\n",
      "已加载 1100000 条记录...\n",
      "已加载 1200000 条记录...\n",
      "已加载 1300000 条记录...\n",
      "已加载 1400000 条记录...\n",
      "已加载 1500000 条记录...\n",
      "已加载 1600000 条记录...\n",
      "已加载 1700000 条记录...\n",
      "已加载 1800000 条记录...\n",
      "已加载 1900000 条记录...\n",
      "已加载 2000000 条记录...\n",
      "已加载 2100000 条记录...\n",
      "已加载 2200000 条记录...\n",
      "已加载 2300000 条记录...\n",
      "已加载 2400000 条记录...\n",
      "已加载 2500000 条记录...\n",
      "已加载 2600000 条记录...\n",
      "已加载 2700000 条记录...\n",
      "已加载 2800000 条记录...\n",
      "已加载 2900000 条记录...\n",
      "已加载 3000000 条记录...\n",
      "已加载 3100000 条记录...\n",
      "已加载 3200000 条记录...\n",
      "已加载 3300000 条记录...\n",
      "已加载 3400000 条记录...\n",
      "已加载 3500000 条记录...\n",
      "已加载 3600000 条记录...\n",
      "已加载 3700000 条记录...\n",
      "已加载 3800000 条记录...\n",
      "已加载 3900000 条记录...\n",
      "已加载 4000000 条记录...\n",
      "已加载 4100000 条记录...\n",
      "已加载 4200000 条记录...\n",
      "已加载 4300000 条记录...\n",
      "已加载 4400000 条记录...\n",
      "已加载 4500000 条记录...\n",
      "已加载 4600000 条记录...\n",
      "已加载 4700000 条记录...\n",
      "已加载 4800000 条记录...\n",
      "已加载 4900000 条记录...\n",
      "已加载 5000000 条记录...\n",
      "已加载 5100000 条记录...\n",
      "已加载 5200000 条记录...\n",
      "已加载 5300000 条记录...\n",
      "已加载 5400000 条记录...\n",
      "已加载 5500000 条记录...\n",
      "已加载 5600000 条记录...\n",
      "已加载 5700000 条记录...\n",
      "已加载 5800000 条记录...\n",
      "已加载 5900000 条记录...\n",
      "已加载 6000000 条记录...\n",
      "已加载 6100000 条记录...\n",
      "已加载 6200000 条记录...\n",
      "已加载 6300000 条记录...\n",
      "已加载 6400000 条记录...\n",
      "已加载 6500000 条记录...\n",
      "已加载 6600000 条记录...\n",
      "共加载 6658592 条记录\n"
     ]
    }
   ],
   "source": [
    "enterprises = query_enterprises_scroll(province=\"江苏省\")"
   ]
  },
  {
   "cell_type": "code",
   "execution_count": 3,
   "id": "506c35a7-8da5-4247-b9e7-7fa7d4befe09",
   "metadata": {
    "ExecuteTime": {
     "end_time": "2025-04-05T02:34:54.036561473Z",
     "start_time": "2025-04-05T02:34:53.993262303Z"
    }
   },
   "outputs": [],
   "source": [
    "def deal(row):\n",
    "        address = row[\"registered_address\"]\n",
    "        province = row[\"province\"]\n",
    "        city = row[\"city\"]\n",
    "        district = row[\"district\"]\n",
    "\n",
    "        row[\"extra_address\"] = None\n",
    "        row[\"matched_province\"] = None\n",
    "        row[\"matched_city\"] = None\n",
    "        row[\"matched_district\"] = None\n",
    "\n",
    "        if pd.isna(address) or address == \"-\":\n",
    "            return row\n",
    "\n",
    "        extra_address = address\n",
    "        matched_province = None\n",
    "        matched_city = None\n",
    "        matched_district = None\n",
    "        matched_town_or_street = None\n",
    "\n",
    "        if not pd.isna(province) and province != \"-\" and province in extra_address:\n",
    "            matched_province = province\n",
    "            extra_address = extra_address.replace(province, \"\", 1)\n",
    "\n",
    "        if not pd.isna(city) and city != \"-\" and city in extra_address:\n",
    "            matched_city = city\n",
    "            extra_address = extra_address.replace(city, \"\", 1)\n",
    "\n",
    "        if not pd.isna(district) and district != \"-\" and district in extra_address:\n",
    "            matched_district = district\n",
    "            extra_address = extra_address.replace(district, \"\", 1)\n",
    "\n",
    "         # 提取镇/街道（以“镇”或“街道”结尾的词）\n",
    "        town_or_street_pattern = r\"[^\\s]{2,10}(?:镇|街道)\"\n",
    "        match = re.search(town_or_street_pattern, extra_address)\n",
    "        if match:\n",
    "            matched_town_or_street = match.group(0)\n",
    "            extra_address = extra_address.replace(matched_town_or_street, \"\", 1)\n",
    "\n",
    "        extra_address = extra_address.strip()\n",
    "        if not extra_address:\n",
    "            extra_address = None\n",
    "\n",
    "        row[\"extra_address\"] = extra_address\n",
    "        row[\"matched_province\"] = matched_province\n",
    "        row[\"matched_city\"] = matched_city\n",
    "        row[\"matched_district\"] = matched_district\n",
    "        row[\"matched_town\"] = matched_town_or_street\n",
    "        \n",
    "        # 进行预测，只保存预测错误的数据，减少存储压力\n",
    "        \n",
    "\n",
    "        return row"
   ]
  },
  {
   "cell_type": "code",
   "execution_count": 4,
   "id": "01536077-07b2-4088-a8bf-4ab865af679c",
   "metadata": {
    "ExecuteTime": {
     "end_time": "2025-04-05T02:48:36.911556096Z",
     "start_time": "2025-04-05T02:35:19.789905419Z"
    }
   },
   "outputs": [
    {
     "name": "stdout",
     "output_type": "stream",
     "text": [
      "处理进度 2025-04-05 10:35:40:0\n",
      "处理进度 2025-04-05 10:35:40:100000\n",
      "处理进度 2025-04-05 10:35:40:200000\n",
      "处理进度 2025-04-05 10:35:40:300000\n",
      "处理进度 2025-04-05 10:36:25:400000\n",
      "处理进度 2025-04-05 10:36:25:500000\n",
      "处理进度 2025-04-05 10:36:26:600000\n",
      "处理进度 2025-04-05 10:36:27:700000\n",
      "处理进度 2025-04-05 10:37:10:800000\n",
      "处理进度 2025-04-05 10:37:11:900000\n",
      "处理进度 2025-04-05 10:37:11:1000000\n",
      "处理进度 2025-04-05 10:37:13:1100000\n",
      "处理进度 2025-04-05 10:38:01:1200000\n",
      "处理进度 2025-04-05 10:38:02:1300000\n",
      "处理进度 2025-04-05 10:38:04:1400000\n",
      "处理进度 2025-04-05 10:38:06:1500000\n",
      "处理进度 2025-04-05 10:38:50:1600000\n",
      "处理进度 2025-04-05 10:38:51:1700000\n",
      "处理进度 2025-04-05 10:38:52:1800000\n",
      "处理进度 2025-04-05 10:38:54:1900000\n",
      "处理进度 2025-04-05 10:39:34:2000000\n",
      "处理进度 2025-04-05 10:39:36:2100000\n",
      "处理进度 2025-04-05 10:39:37:2200000\n",
      "处理进度 2025-04-05 10:39:39:2300000\n",
      "处理进度 2025-04-05 10:40:19:2400000\n",
      "处理进度 2025-04-05 10:40:20:2500000\n",
      "处理进度 2025-04-05 10:40:21:2600000\n",
      "处理进度 2025-04-05 10:40:24:2700000\n",
      "处理进度 2025-04-05 10:41:04:2800000\n",
      "处理进度 2025-04-05 10:41:05:2900000\n",
      "处理进度 2025-04-05 10:41:05:3000000\n",
      "处理进度 2025-04-05 10:41:08:3100000\n",
      "处理进度 2025-04-05 10:41:49:3200000\n",
      "处理进度 2025-04-05 10:41:49:3300000\n",
      "处理进度 2025-04-05 10:41:50:3400000\n",
      "处理进度 2025-04-05 10:41:53:3500000\n",
      "处理进度 2025-04-05 10:42:34:3600000\n",
      "处理进度 2025-04-05 10:42:34:3700000\n",
      "处理进度 2025-04-05 10:42:35:3800000\n",
      "处理进度 2025-04-05 10:42:37:3900000\n",
      "处理进度 2025-04-05 10:43:19:4000000\n",
      "处理进度 2025-04-05 10:43:19:4100000\n",
      "处理进度 2025-04-05 10:43:20:4200000\n",
      "处理进度 2025-04-05 10:43:21:4300000\n",
      "处理进度 2025-04-05 10:44:03:4400000\n",
      "处理进度 2025-04-05 10:44:04:4500000\n",
      "处理进度 2025-04-05 10:44:05:4600000\n",
      "处理进度 2025-04-05 10:44:06:4700000\n",
      "处理进度 2025-04-05 10:44:48:4800000\n",
      "处理进度 2025-04-05 10:44:49:4900000\n",
      "处理进度 2025-04-05 10:44:49:5000000\n",
      "处理进度 2025-04-05 10:44:51:5100000\n",
      "处理进度 2025-04-05 10:45:32:5200000\n",
      "处理进度 2025-04-05 10:45:32:5300000\n",
      "处理进度 2025-04-05 10:45:34:5400000\n",
      "处理进度 2025-04-05 10:45:36:5500000\n",
      "处理进度 2025-04-05 10:46:16:5600000\n",
      "处理进度 2025-04-05 10:46:18:5700000\n",
      "处理进度 2025-04-05 10:46:20:5800000\n",
      "处理进度 2025-04-05 10:46:23:5900000\n",
      "处理进度 2025-04-05 10:47:04:6000000\n",
      "处理进度 2025-04-05 10:47:05:6100000\n",
      "处理进度 2025-04-05 10:47:08:6200000\n",
      "处理进度 2025-04-05 10:47:09:6300000\n",
      "处理进度 2025-04-05 10:47:57:6400000\n",
      "处理进度 2025-04-05 10:47:58:6500000\n",
      "处理进度 2025-04-05 10:48:03:6600000\n"
     ]
    }
   ],
   "source": [
    "ok_df = processes.process_dataframe_multiprocess(df, deal, num_processes=4, chunk_size=100000)"
   ]
  },
  {
   "cell_type": "code",
   "outputs": [],
   "source": [
    "def csv_to_bio(df, output_file):\n",
    "    selected_columns = [\"province\", \"city\", \"district\", \"matched_town\", \"extra_address\"]\n",
    "    \n",
    "    with open(output_file, \"w\", encoding=\"utf-8\") as f:\n",
    "        for index, row in df.iterrows():\n",
    "            # 处理每个字段\n",
    "            for col in selected_columns:\n",
    "                if pd.notna(row[col]) and (col != \"matched_town\" or row[col]):  # 跳过空的 matched_town\n",
    "                    chars = list(row[col])  # 将字符串拆分为字符列表\n",
    "                    if col == \"province\":\n",
    "                        tag_prefix = \"PROV\"\n",
    "                    elif col == \"city\":\n",
    "                        tag_prefix = \"CITY\"\n",
    "                    elif col == \"district\":\n",
    "                        tag_prefix = \"DISTRICT\"\n",
    "                    elif col == \"matched_town\":\n",
    "                        tag_prefix = \"TOWN\"\n",
    "                    elif col == \"extra_address\":\n",
    "                        tag_prefix = \"EXTRA\"\n",
    "                    \n",
    "                    # 分配BIO标签\n",
    "                    for i, char in enumerate(chars):\n",
    "                        if i == 0:\n",
    "                            f.write(f\"{char} B-{tag_prefix}\\n\")\n",
    "                        elif i == len(chars) - 1:\n",
    "                            f.write(f\"{char} E-{tag_prefix}\\n\")\n",
    "                        else:\n",
    "                            f.write(f\"{char} I-{tag_prefix}\\n\")\n",
    "            # 每条地址后加空行\n",
    "            if index < len(df) - 1:\n",
    "                f.write(\"\\n\")\n",
    "\n",
    "# 生成train.txt\n",
    "csv_to_bio(ok_df[ok_df['city'] == '无锡市'], \"train无锡.txt\")"
   ],
   "metadata": {
    "collapsed": false,
    "ExecuteTime": {
     "end_time": "2025-04-06T00:52:51.998746563Z",
     "start_time": "2025-04-06T00:51:24.279375442Z"
    }
   },
   "id": "3489a276fdb042b6",
   "execution_count": 14
  },
  {
   "cell_type": "code",
   "outputs": [
    {
     "data": {
      "text/plain": "1815829"
     },
     "execution_count": 15,
     "metadata": {},
     "output_type": "execute_result"
    }
   ],
   "source": [
    "len(ok_df[ok_df['city'] == '无锡市'])"
   ],
   "metadata": {
    "collapsed": false,
    "ExecuteTime": {
     "end_time": "2025-04-06T00:52:52.514711541Z",
     "start_time": "2025-04-06T00:52:52.213289077Z"
    }
   },
   "id": "2cbb6be32b2127c3",
   "execution_count": 15
  }
 ],
 "metadata": {
  "kernelspec": {
   "display_name": "Python 3 (ipykernel)",
   "language": "python",
   "name": "python3"
  },
  "language_info": {
   "codemirror_mode": {
    "name": "ipython",
    "version": 3
   },
   "file_extension": ".py",
   "mimetype": "text/x-python",
   "name": "python",
   "nbconvert_exporter": "python",
   "pygments_lexer": "ipython3",
   "version": "3.11.11"
  }
 },
 "nbformat": 4,
 "nbformat_minor": 5
}
